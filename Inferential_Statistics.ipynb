{
 "cells": [
  {
   "cell_type": "markdown",
   "id": "26a6cb01",
   "metadata": {},
   "source": [
    "# Inferential statistics\n",
    "- The process of infering insights from sample data to population is called inderential statics\n",
    "- Category of inferential statistic\n",
    "   1. probability distribution\n",
    "   2. hypothisis testing\n",
    "   3. corelation testing\n",
    "   4. regression analysis\n",
    "   "
   ]
  },
  {
   "cell_type": "markdown",
   "id": "fc1c83f7",
   "metadata": {},
   "source": [
    "# Probability \n",
    "- Probability is the likelihood of the event (chance of happening)\n",
    "- Is always betweem 0 and 1\n",
    "- Probability of event happening = number of ways it can happen/total number of outcomes\n",
    "## Mutually Exclusive \n",
    "    - Two events  can not occur at same time\n",
    "    - exp: Tossing a coin\n",
    "## Non-Mutually Exclusive\n",
    "     - Two event can occur at same time\n",
    "     - Withdraw of heart and king card from deck\n",
    "- Calculating rule of probability \n",
    " 1. Additive rulle of probability\n",
    "    - exp: A single 6 sided die rolled. What is the probability of rolling a 2 or 3?\n",
    "              - The events are mutually exclusive because 2 and 3 can not appear at same time.\n",
    "              P(A or B) = P(A) + P(B)\n",
    "              \n",
    "              P(2 or 3) = P(2) + P(3)\n",
    "              = 1/6 + 1/6\n",
    "              = 2 / 6\n",
    "              \n",
    "    "
   ]
  },
  {
   "cell_type": "code",
   "execution_count": null,
   "id": "fd52c21f",
   "metadata": {},
   "outputs": [],
   "source": []
  },
  {
   "cell_type": "code",
   "execution_count": null,
   "id": "b8ce70ea",
   "metadata": {},
   "outputs": [],
   "source": []
  }
 ],
 "metadata": {
  "kernelspec": {
   "display_name": "Python 3 (ipykernel)",
   "language": "python",
   "name": "python3"
  },
  "language_info": {
   "codemirror_mode": {
    "name": "ipython",
    "version": 3
   },
   "file_extension": ".py",
   "mimetype": "text/x-python",
   "name": "python",
   "nbconvert_exporter": "python",
   "pygments_lexer": "ipython3",
   "version": "3.9.13"
  }
 },
 "nbformat": 4,
 "nbformat_minor": 5
}
