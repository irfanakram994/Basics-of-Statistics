{
 "cells": [
  {
   "cell_type": "code",
   "execution_count": 1,
   "id": "cb99d002",
   "metadata": {},
   "outputs": [],
   "source": [
    "import pandas as pd\n",
    "import seaborn as sns\n",
    "import numpy as np\n",
    "import matplotlib.pyplot as plt"
   ]
  },
  {
   "cell_type": "markdown",
   "id": "19e2a9d3",
   "metadata": {},
   "source": [
    "# Discriptive Statistics\n",
    "- Describe some characteristics of nomerical data including dataset distribution centeral tendency and dispersion\n",
    "-- Types of Discriptive statistics\n",
    "- Measure of Frequency\n",
    "- Measure of Tenteral Tendency\n",
    "- Measure of Dispersion\n",
    "- Mearusre of Positions\n",
    "- Measure of shapes"
   ]
  },
  {
   "cell_type": "markdown",
   "id": "fed45952",
   "metadata": {},
   "source": [
    "## Measure of Frequency\n",
    "\n",
    "- Count how many  times the value is occur in dataset"
   ]
  },
  {
   "cell_type": "code",
   "execution_count": 4,
   "id": "7334b6e5",
   "metadata": {
    "scrolled": true
   },
   "outputs": [
    {
     "name": "stdout",
     "output_type": "stream",
     "text": [
      "The Frequency of 1 in Dataset is 2\n",
      "The Frequency of 2 in Dataset is 2\n",
      "The Frequency of 3 in Dataset is 4\n",
      "The Frequency of 4 in Dataset is 2\n",
      "The Frequency of 5 in Dataset is 2\n",
      "The Frequency of 6 in Dataset is 1\n"
     ]
    }
   ],
   "source": [
    "dataset = [1,2,3,3,3,2,1,3,4,5,5,6,4]\n",
    "for i in set(dataset):\n",
    "    print(f\"The Frequency of {i} in Dataset is\", dataset.count(i))"
   ]
  },
  {
   "cell_type": "markdown",
   "id": "8f5aa531",
   "metadata": {},
   "source": [
    "## Measure of Central Tendency\n",
    "- Information about the center of the data\n",
    "- Types of centeral tendency\n",
    "     - Mean\n",
    "     - Median\n",
    "     - Mode\n",
    "### Mean\n",
    "- The ratio of the sum of all the observations to the total number of observations\n",
    "- Highly sensitive to outliers\n",
    "- Not apply to catagorical data\n"
   ]
  },
  {
   "cell_type": "code",
   "execution_count": 5,
   "id": "a952e832",
   "metadata": {},
   "outputs": [
    {
     "data": {
      "text/plain": [
       "5.5"
      ]
     },
     "execution_count": 5,
     "metadata": {},
     "output_type": "execute_result"
    }
   ],
   "source": [
    "data = [3,4,5,6,7,8]\n",
    "(3+4+5+6+7+8)/6  #mean"
   ]
  },
  {
   "cell_type": "code",
   "execution_count": 6,
   "id": "0ad7b4da",
   "metadata": {},
   "outputs": [
    {
     "data": {
      "text/plain": [
       "5.5"
      ]
     },
     "execution_count": 6,
     "metadata": {},
     "output_type": "execute_result"
    }
   ],
   "source": [
    "np.mean(data)"
   ]
  },
  {
   "cell_type": "markdown",
   "id": "215f4e76",
   "metadata": {},
   "source": [
    "## Outliers \n",
    "- Unusal Values in data\n",
    "- Smaller or large one\n",
    "# Median \n",
    "- Middle Value in data(Divide the data into two equal parts), when the values are arranged\n",
    "- Not applicable to catagorical data\n",
    "- Not sensitive to Outliers\n"
   ]
  },
  {
   "cell_type": "code",
   "execution_count": 7,
   "id": "725ddeac",
   "metadata": {},
   "outputs": [
    {
     "name": "stdout",
     "output_type": "stream",
     "text": [
      "[3, 4, 5, 6, 7, 8]\n",
      "3.0 4.0\n"
     ]
    },
    {
     "data": {
      "text/plain": [
       "5.5"
      ]
     },
     "execution_count": 7,
     "metadata": {},
     "output_type": "execute_result"
    }
   ],
   "source": [
    "# if observation is even\n",
    "data1 = [8,4,5,7,6,3]\n",
    "print(sorted(data1))\n",
    "\n",
    "# average of n/2 and n/2+1 values in data\n",
    "a = 6/2\n",
    "b = (6/2) + 1\n",
    "print(a,b)\n",
    "(5+6)/2"
   ]
  },
  {
   "cell_type": "markdown",
   "id": "815cca6b",
   "metadata": {},
   "source": [
    "# Mode\n",
    "- Most Repeated Values in data\n",
    "- If data has one mode called Uni-Model\n",
    "- If data has two mode called Bi-Model\n",
    "- If data has more than two modes called the Multi-Model\n",
    "- It is applicable on catagorical data\n",
    "- It can't tell about the center of data when data have more then one modes"
   ]
  },
  {
   "cell_type": "code",
   "execution_count": 8,
   "id": "63752530",
   "metadata": {
    "scrolled": true
   },
   "outputs": [
    {
     "name": "stdout",
     "output_type": "stream",
     "text": [
      "Repetation of 1 is  2\n",
      "Repetation of 2 is  4\n",
      "Repetation of 3 is  1\n",
      "Repetation of 6 is  1\n"
     ]
    }
   ],
   "source": [
    "data2 = [1,1,2,3,2,2,2,6]\n",
    "for i in set(data2):\n",
    "    print(f\"Repetation of {i} is \", data2.count(i))"
   ]
  },
  {
   "cell_type": "markdown",
   "id": "ed028cd1",
   "metadata": {},
   "source": [
    "# Measure of Variablity(Dispersion)\n",
    "- Describe how far apart the data points are lie from each other and from the center of the distribution.\n",
    "- Tell the data is clusterd or not\n",
    "- low variablity mean data is cvlusterd about mean\n",
    "- Types of Variablity\n",
    "   1. Mean Absolute Deviation\n",
    "   2. Varience\n",
    "   3. Standerd Deviation\n",
    "   4. Range"
   ]
  },
  {
   "cell_type": "markdown",
   "id": "53776cf8",
   "metadata": {},
   "source": [
    "# Varience\n",
    "- Tells the degree of spread( How much data points are spread in our dataset) in dataset.\n",
    "- Calculated by taking average of squared deviation from the mean.\n",
    "- Formula   Sum((xi - mean(x)**2)/N for population varience\n",
    "- Formula   Sum((xi - mean(x))**2)/(n-1) for sample varience\n",
    "- Population is whole group and the sample is part of population\n"
   ]
  },
  {
   "cell_type": "code",
   "execution_count": 9,
   "id": "60163cf6",
   "metadata": {
    "scrolled": true
   },
   "outputs": [
    {
     "name": "stdout",
     "output_type": "stream",
     "text": [
      "6.2\n",
      "65.6\n"
     ]
    },
    {
     "data": {
      "text/plain": [
       "6.56"
      ]
     },
     "execution_count": 9,
     "metadata": {},
     "output_type": "execute_result"
    }
   ],
   "source": [
    "data3 = [5,6,6,7,5,8,9,11,2,3]\n",
    "print(np.mean(data3))\n",
    "sm = 0\n",
    "for i in data3:\n",
    "    d = ((i-np.mean(data3))**2)\n",
    "    sm = d + sm\n",
    "print(sm)\n",
    "sm/len(data3)"
   ]
  },
  {
   "cell_type": "markdown",
   "id": "c7c1c4fa",
   "metadata": {},
   "source": [
    "# Standard Deviation\n",
    "- Square Root of varience\n",
    "- sqrt(varience)\n",
    "- (varience)**1/2"
   ]
  },
  {
   "cell_type": "code",
   "execution_count": 11,
   "id": "2c639bda",
   "metadata": {},
   "outputs": [
    {
     "data": {
      "text/plain": [
       "2.5612496949731396"
      ]
     },
     "execution_count": 11,
     "metadata": {},
     "output_type": "execute_result"
    }
   ],
   "source": [
    "pow(6.56,.5)"
   ]
  },
  {
   "cell_type": "markdown",
   "id": "6b70dd9f",
   "metadata": {},
   "source": [
    "## Variance V/S Standard Deviation\n",
    "- Varience: gives an actual value to how much the numbers in a data set vary from the mean ( distance of set of data point from mean)\n",
    "- Give the square units\n",
    "- Standard Deviation(std): used to determine how spread out numbers are in a data set (square averge distance of each data point)\n",
    "- provide same units\n",
    "- std used more\n",
    "\n",
    "# Measures of Position\n",
    "- Quartiles\n",
    "- Percentile\n",
    "- Interquartiles range\n",
    "## Quartiles\n",
    "-  Particular part of data set\n",
    "- Determines how many values in a distribution are above or below a certain limit\n",
    "- It divide the data into 4 equal parts Q1 = 25%,Q2 = 50% and Q3 = 75% are the first, second and third quartile.\n",
    "- Value are sorted"
   ]
  },
  {
   "cell_type": "code",
   "execution_count": 12,
   "id": "ea55653a",
   "metadata": {},
   "outputs": [],
   "source": [
    "data4 = [10,20,30,40,50,60,70,80,90,100]\n",
    "#Q2 = median\n",
    "Q2 = (50+60)/2\n",
    "Q1 = 30\n",
    "Q3 = 80"
   ]
  },
  {
   "cell_type": "markdown",
   "id": "f2b82878",
   "metadata": {},
   "source": [
    "## Percentile\n",
    "- Percentage\n",
    "- Five subject marks 55,34,54,66,77/500 %\n",
    "- A percentile is a compersion score b/w a particular score and the score of the rest of the group\n",
    "- percentile = [(number of values below score )/(total number of score)] *100\n",
    "- percentile ranke = (percentile/100)*(n+1)\n",
    "- Quartile is the special case of percentile\n",
    "- values are sorted "
   ]
  },
  {
   "cell_type": "code",
   "execution_count": 1,
   "id": "d13afd20",
   "metadata": {},
   "outputs": [
    {
     "data": {
      "text/plain": [
       "80.0"
      ]
     },
     "execution_count": 1,
     "metadata": {},
     "output_type": "execute_result"
    }
   ],
   "source": [
    "data5 = [2,2,3,4,5,5,6,7,8,8,8,8,8,9,9,10,11,11,12]\n",
    "# Find percentile of 10\n",
    "(16/20)*100"
   ]
  },
  {
   "cell_type": "code",
   "execution_count": 4,
   "id": "3ef6b90e",
   "metadata": {},
   "outputs": [
    {
     "name": "stdout",
     "output_type": "stream",
     "text": [
      "5.25\n"
     ]
    },
    {
     "data": {
      "text/plain": [
       "5"
      ]
     },
     "execution_count": 4,
     "metadata": {},
     "output_type": "execute_result"
    }
   ],
   "source": [
    "# Percentile give find of percentile rank\n",
    "# What value exists at percentile ranking of 25%\\\n",
    "i = (25/100)*(20+1)\n",
    "i = 5.25\n",
    "print(i)\n",
    "# 1. multiply the decimaal part of the i  with i-(i+1) indexed value\n",
    "0.25*(5-5)\n",
    "# 2 Add the result to i value\n",
    "\n",
    "5+0\n",
    "\n"
   ]
  },
  {
   "cell_type": "markdown",
   "id": "53f43492",
   "metadata": {},
   "source": [
    "## Interqurtile Range\n",
    "- Range will give the spread of whole data\n",
    "- Interqurtile range contains the second and third qurtiles, and give the range of middle half of data \n",
    "- IQR = Q3 - Q1\n",
    " "
   ]
  },
  {
   "cell_type": "code",
   "execution_count": 5,
   "id": "d6f734d6",
   "metadata": {},
   "outputs": [
    {
     "data": {
      "text/plain": [
       "50"
      ]
     },
     "execution_count": 5,
     "metadata": {},
     "output_type": "execute_result"
    }
   ],
   "source": [
    "# use q1 and q3 of data\n",
    "IQR = 80 - 30\n",
    "IQR"
   ]
  },
  {
   "cell_type": "markdown",
   "id": "7add18d2",
   "metadata": {},
   "source": [
    "# Measure of Shape \n",
    "- describe the distribution or pattern of data with in dataset\n",
    "- types of shape\n",
    "\n",
    "1. Skewness\n",
    "2. Kurtosis\n",
    "3. box and wisker plot\n",
    "\n"
   ]
  },
  {
   "cell_type": "code",
   "execution_count": 10,
   "id": "6eba572d",
   "metadata": {},
   "outputs": [
    {
     "data": {
      "text/plain": [
       "[<matplotlib.lines.Line2D at 0x16990b26430>]"
      ]
     },
     "execution_count": 10,
     "metadata": {},
     "output_type": "execute_result"
    },
    {
     "data": {
      "image/png": "[encoded data removed]",
      "text/plain": [
       "<Figure size 432x288 with 1 Axes>"
      ]
     },
     "metadata": {
      "needs_background": "light"
     },
     "output_type": "display_data"
    }
   ],
   "source": [
    "import pandas as pd\n",
    "import numpy as np\n",
    "import matplotlib.pyplot as plt\n",
    "import seaborn as sns\n",
    "year = [2016,2017,2018,2019,2020,2021]\n",
    "\n",
    "demand = [10,18,12,24,15,9]\n",
    "plt.plot(year,demand)"
   ]
  },
  {
   "cell_type": "markdown",
   "id": "9933ed1e",
   "metadata": {},
   "source": [
    "# Kurtosis\n",
    "- Identifies weather the tails of given distribution contain extreme value when compared to normal distribution\n",
    "- kurtosis refer to the degree of presence of outlies in the distribution\n",
    "- 4th centeral moment\n",
    "- skewness measure the symmetry of the distribution\n",
    "- kurtosis measure the heaviness of the distribution of tails\n",
    "- use face in finance"
   ]
  },
  {
   "cell_type": "markdown",
   "id": "63b66a2c",
   "metadata": {},
   "source": [
    "# Type of Kurtosis \n",
    "\n",
    "#  mesokurtic\n",
    " - Ideal value of kurtosis is 3 which is normal distribution \n",
    " - distribution are moderate in the breadth, and curves are a medium peaked heigh\n",
    " \n",
    "#  lemptokurtic\n",
    "- distribution shows heavy tail on either side, indicating large outliers\n",
    "- kurtosis is higher then the normal distribution\n",
    "- peak is higher then the normal distribution , k > 3 and have more detailed on tails(higher kkurtosis\n",
    "# platykutic\n",
    "- kurtosis reveals a distrubution with flat tails that indicate small outliers in a distribution\n",
    "- if k<3 have low kurtosis and less information in tail\n",
    "\n",
    "# box and whisker plots\n",
    "- a box plot summarize a data set visually using five number summary\n",
    "1. using lowest value\n",
    "2. Q1. 25 percentile\n",
    "3. Median\n",
    "4. Q3. 75th percentile\n",
    "5. Maximum value\n",
    "## Importance of box plot\n",
    "- if there are any outliers and what there values are\n",
    "- is the data symmertrical \n",
    "- how the data is grouped \n",
    "- if data is skewed and if so, in what direction\n"
   ]
  },
  {
   "cell_type": "code",
   "execution_count": null,
   "id": "d4626038",
   "metadata": {},
   "outputs": [],
   "source": [
    "     "
   ]
  }
 ],
 "metadata": {
  "kernelspec": {
   "display_name": "Python 3 (ipykernel)",
   "language": "python",
   "name": "python3"
  },
  "language_info": {
   "codemirror_mode": {
    "name": "ipython",
    "version": 3
   },
   "file_extension": ".py",
   "mimetype": "text/x-python",
   "name": "python",
   "nbconvert_exporter": "python",
   "pygments_lexer": "ipython3",
   "version": "3.9.13"
  }
 },
 "nbformat": 4,
 "nbformat_minor": 5
}
